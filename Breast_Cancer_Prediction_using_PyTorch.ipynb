{
  "nbformat": 4,
  "nbformat_minor": 0,
  "metadata": {
    "colab": {
      "provenance": [],
      "gpuType": "T4",
      "authorship_tag": "ABX9TyOn2oNYAQeTQMBGzJZJMPVf",
      "include_colab_link": true
    },
    "kernelspec": {
      "name": "python3",
      "display_name": "Python 3"
    },
    "language_info": {
      "name": "python"
    },
    "accelerator": "GPU"
  },
  "cells": [
    {
      "cell_type": "markdown",
      "metadata": {
        "id": "view-in-github",
        "colab_type": "text"
      },
      "source": [
        "<a href=\"https://colab.research.google.com/github/div-yash/Breast-Cancer-Prediction-using-PyTorch/blob/main/Breast_Cancer_Prediction_using_PyTorch.ipynb\" target=\"_parent\"><img src=\"https://colab.research.google.com/assets/colab-badge.svg\" alt=\"Open In Colab\"/></a>"
      ]
    },
    {
      "cell_type": "code",
      "execution_count": 1,
      "metadata": {
        "id": "1saxTneoqZHD"
      },
      "outputs": [],
      "source": [
        "# Importing the dependencies\n",
        "\n",
        "import torch\n",
        "import torch.nn as nn\n",
        "import torch.optim as optim\n",
        "\n",
        "import pandas as pd\n",
        "from sklearn.datasets import load_breast_cancer\n",
        "from sklearn.model_selection import train_test_split\n",
        "from sklearn.preprocessing import StandardScaler\n"
      ]
    },
    {
      "cell_type": "markdown",
      "source": [
        "Device Configuration:\n"
      ],
      "metadata": {
        "id": "x0lSk6-hrHwk"
      }
    },
    {
      "cell_type": "code",
      "source": [
        "# check for CUDA availability\n",
        "device=torch.device(\"cuda\" if torch.cuda.is_available() else \"cpu\")\n",
        "print(\"Using Device:\",{device})"
      ],
      "metadata": {
        "colab": {
          "base_uri": "https://localhost:8080/"
        },
        "id": "JC18ZCGSrCaK",
        "outputId": "68d65c5c-e91b-4cd7-c5eb-ec0d4f1e590a"
      },
      "execution_count": 2,
      "outputs": [
        {
          "output_type": "stream",
          "name": "stdout",
          "text": [
            "Using Device: {device(type='cuda')}\n"
          ]
        }
      ]
    },
    {
      "cell_type": "code",
      "source": [
        "# Data collection and preprocessing\n",
        "\n",
        "#loading dataset\n",
        "data=load_breast_cancer()\n",
        "x=data.data\n",
        "y=data.target"
      ],
      "metadata": {
        "id": "EKNSgcCkrSbN"
      },
      "execution_count": 3,
      "outputs": []
    },
    {
      "cell_type": "code",
      "source": [
        "print(x)"
      ],
      "metadata": {
        "colab": {
          "base_uri": "https://localhost:8080/"
        },
        "id": "5TYCIWIG0ChT",
        "outputId": "c1632594-0d65-44f6-9460-1b79b78c8fb5"
      },
      "execution_count": 4,
      "outputs": [
        {
          "output_type": "stream",
          "name": "stdout",
          "text": [
            "[[1.799e+01 1.038e+01 1.228e+02 ... 2.654e-01 4.601e-01 1.189e-01]\n",
            " [2.057e+01 1.777e+01 1.329e+02 ... 1.860e-01 2.750e-01 8.902e-02]\n",
            " [1.969e+01 2.125e+01 1.300e+02 ... 2.430e-01 3.613e-01 8.758e-02]\n",
            " ...\n",
            " [1.660e+01 2.808e+01 1.083e+02 ... 1.418e-01 2.218e-01 7.820e-02]\n",
            " [2.060e+01 2.933e+01 1.401e+02 ... 2.650e-01 4.087e-01 1.240e-01]\n",
            " [7.760e+00 2.454e+01 4.792e+01 ... 0.000e+00 2.871e-01 7.039e-02]]\n"
          ]
        }
      ]
    },
    {
      "cell_type": "code",
      "source": [
        "print(y)"
      ],
      "metadata": {
        "colab": {
          "base_uri": "https://localhost:8080/"
        },
        "id": "q0_nm31W0Ppo",
        "outputId": "adeec50e-81ae-4626-ffd2-7a2be9a39851"
      },
      "execution_count": 5,
      "outputs": [
        {
          "output_type": "stream",
          "name": "stdout",
          "text": [
            "[0 0 0 0 0 0 0 0 0 0 0 0 0 0 0 0 0 0 0 1 1 1 0 0 0 0 0 0 0 0 0 0 0 0 0 0 0\n",
            " 1 0 0 0 0 0 0 0 0 1 0 1 1 1 1 1 0 0 1 0 0 1 1 1 1 0 1 0 0 1 1 1 1 0 1 0 0\n",
            " 1 0 1 0 0 1 1 1 0 0 1 0 0 0 1 1 1 0 1 1 0 0 1 1 1 0 0 1 1 1 1 0 1 1 0 1 1\n",
            " 1 1 1 1 1 1 0 0 0 1 0 0 1 1 1 0 0 1 0 1 0 0 1 0 0 1 1 0 1 1 0 1 1 1 1 0 1\n",
            " 1 1 1 1 1 1 1 1 0 1 1 1 1 0 0 1 0 1 1 0 0 1 1 0 0 1 1 1 1 0 1 1 0 0 0 1 0\n",
            " 1 0 1 1 1 0 1 1 0 0 1 0 0 0 0 1 0 0 0 1 0 1 0 1 1 0 1 0 0 0 0 1 1 0 0 1 1\n",
            " 1 0 1 1 1 1 1 0 0 1 1 0 1 1 0 0 1 0 1 1 1 1 0 1 1 1 1 1 0 1 0 0 0 0 0 0 0\n",
            " 0 0 0 0 0 0 0 1 1 1 1 1 1 0 1 0 1 1 0 1 1 0 1 0 0 1 1 1 1 1 1 1 1 1 1 1 1\n",
            " 1 0 1 1 0 1 0 1 1 1 1 1 1 1 1 1 1 1 1 1 1 0 1 1 1 0 1 0 1 1 1 1 0 0 0 1 1\n",
            " 1 1 0 1 0 1 0 1 1 1 0 1 1 1 1 1 1 1 0 0 0 1 1 1 1 1 1 1 1 1 1 1 0 0 1 0 0\n",
            " 0 1 0 0 1 1 1 1 1 0 1 1 1 1 1 0 1 1 1 0 1 1 0 0 1 1 1 1 1 1 0 1 1 1 1 1 1\n",
            " 1 0 1 1 1 1 1 0 1 1 0 1 1 1 1 1 1 1 1 1 1 1 1 0 1 0 0 1 0 1 1 1 1 1 0 1 1\n",
            " 0 1 0 1 1 0 1 0 1 1 1 1 1 1 1 1 0 0 1 1 1 1 1 1 0 1 1 1 1 1 1 1 1 1 1 0 1\n",
            " 1 1 1 1 1 1 0 1 0 1 1 0 1 1 1 1 1 0 0 1 0 1 0 1 1 1 1 1 0 1 1 0 1 0 1 0 0\n",
            " 1 1 1 0 1 1 1 1 1 1 1 1 1 1 1 0 1 0 0 1 1 1 1 1 1 1 1 1 1 1 1 1 1 1 1 1 1\n",
            " 1 1 1 1 1 1 1 0 0 0 0 0 0 1]\n"
          ]
        }
      ]
    },
    {
      "cell_type": "code",
      "source": [
        "print(data)"
      ],
      "metadata": {
        "colab": {
          "base_uri": "https://localhost:8080/"
        },
        "id": "8pjFDzXo0QY-",
        "outputId": "08b9bc22-8895-4a3e-f229-e480ed935193"
      },
      "execution_count": 6,
      "outputs": [
        {
          "output_type": "stream",
          "name": "stdout",
          "text": [
            "{'data': array([[1.799e+01, 1.038e+01, 1.228e+02, ..., 2.654e-01, 4.601e-01,\n",
            "        1.189e-01],\n",
            "       [2.057e+01, 1.777e+01, 1.329e+02, ..., 1.860e-01, 2.750e-01,\n",
            "        8.902e-02],\n",
            "       [1.969e+01, 2.125e+01, 1.300e+02, ..., 2.430e-01, 3.613e-01,\n",
            "        8.758e-02],\n",
            "       ...,\n",
            "       [1.660e+01, 2.808e+01, 1.083e+02, ..., 1.418e-01, 2.218e-01,\n",
            "        7.820e-02],\n",
            "       [2.060e+01, 2.933e+01, 1.401e+02, ..., 2.650e-01, 4.087e-01,\n",
            "        1.240e-01],\n",
            "       [7.760e+00, 2.454e+01, 4.792e+01, ..., 0.000e+00, 2.871e-01,\n",
            "        7.039e-02]]), 'target': array([0, 0, 0, 0, 0, 0, 0, 0, 0, 0, 0, 0, 0, 0, 0, 0, 0, 0, 0, 1, 1, 1,\n",
            "       0, 0, 0, 0, 0, 0, 0, 0, 0, 0, 0, 0, 0, 0, 0, 1, 0, 0, 0, 0, 0, 0,\n",
            "       0, 0, 1, 0, 1, 1, 1, 1, 1, 0, 0, 1, 0, 0, 1, 1, 1, 1, 0, 1, 0, 0,\n",
            "       1, 1, 1, 1, 0, 1, 0, 0, 1, 0, 1, 0, 0, 1, 1, 1, 0, 0, 1, 0, 0, 0,\n",
            "       1, 1, 1, 0, 1, 1, 0, 0, 1, 1, 1, 0, 0, 1, 1, 1, 1, 0, 1, 1, 0, 1,\n",
            "       1, 1, 1, 1, 1, 1, 1, 0, 0, 0, 1, 0, 0, 1, 1, 1, 0, 0, 1, 0, 1, 0,\n",
            "       0, 1, 0, 0, 1, 1, 0, 1, 1, 0, 1, 1, 1, 1, 0, 1, 1, 1, 1, 1, 1, 1,\n",
            "       1, 1, 0, 1, 1, 1, 1, 0, 0, 1, 0, 1, 1, 0, 0, 1, 1, 0, 0, 1, 1, 1,\n",
            "       1, 0, 1, 1, 0, 0, 0, 1, 0, 1, 0, 1, 1, 1, 0, 1, 1, 0, 0, 1, 0, 0,\n",
            "       0, 0, 1, 0, 0, 0, 1, 0, 1, 0, 1, 1, 0, 1, 0, 0, 0, 0, 1, 1, 0, 0,\n",
            "       1, 1, 1, 0, 1, 1, 1, 1, 1, 0, 0, 1, 1, 0, 1, 1, 0, 0, 1, 0, 1, 1,\n",
            "       1, 1, 0, 1, 1, 1, 1, 1, 0, 1, 0, 0, 0, 0, 0, 0, 0, 0, 0, 0, 0, 0,\n",
            "       0, 0, 1, 1, 1, 1, 1, 1, 0, 1, 0, 1, 1, 0, 1, 1, 0, 1, 0, 0, 1, 1,\n",
            "       1, 1, 1, 1, 1, 1, 1, 1, 1, 1, 1, 0, 1, 1, 0, 1, 0, 1, 1, 1, 1, 1,\n",
            "       1, 1, 1, 1, 1, 1, 1, 1, 1, 0, 1, 1, 1, 0, 1, 0, 1, 1, 1, 1, 0, 0,\n",
            "       0, 1, 1, 1, 1, 0, 1, 0, 1, 0, 1, 1, 1, 0, 1, 1, 1, 1, 1, 1, 1, 0,\n",
            "       0, 0, 1, 1, 1, 1, 1, 1, 1, 1, 1, 1, 1, 0, 0, 1, 0, 0, 0, 1, 0, 0,\n",
            "       1, 1, 1, 1, 1, 0, 1, 1, 1, 1, 1, 0, 1, 1, 1, 0, 1, 1, 0, 0, 1, 1,\n",
            "       1, 1, 1, 1, 0, 1, 1, 1, 1, 1, 1, 1, 0, 1, 1, 1, 1, 1, 0, 1, 1, 0,\n",
            "       1, 1, 1, 1, 1, 1, 1, 1, 1, 1, 1, 1, 0, 1, 0, 0, 1, 0, 1, 1, 1, 1,\n",
            "       1, 0, 1, 1, 0, 1, 0, 1, 1, 0, 1, 0, 1, 1, 1, 1, 1, 1, 1, 1, 0, 0,\n",
            "       1, 1, 1, 1, 1, 1, 0, 1, 1, 1, 1, 1, 1, 1, 1, 1, 1, 0, 1, 1, 1, 1,\n",
            "       1, 1, 1, 0, 1, 0, 1, 1, 0, 1, 1, 1, 1, 1, 0, 0, 1, 0, 1, 0, 1, 1,\n",
            "       1, 1, 1, 0, 1, 1, 0, 1, 0, 1, 0, 0, 1, 1, 1, 0, 1, 1, 1, 1, 1, 1,\n",
            "       1, 1, 1, 1, 1, 0, 1, 0, 0, 1, 1, 1, 1, 1, 1, 1, 1, 1, 1, 1, 1, 1,\n",
            "       1, 1, 1, 1, 1, 1, 1, 1, 1, 1, 1, 1, 0, 0, 0, 0, 0, 0, 1]), 'frame': None, 'target_names': array(['malignant', 'benign'], dtype='<U9'), 'DESCR': '.. _breast_cancer_dataset:\\n\\nBreast cancer wisconsin (diagnostic) dataset\\n--------------------------------------------\\n\\n**Data Set Characteristics:**\\n\\n:Number of Instances: 569\\n\\n:Number of Attributes: 30 numeric, predictive attributes and the class\\n\\n:Attribute Information:\\n    - radius (mean of distances from center to points on the perimeter)\\n    - texture (standard deviation of gray-scale values)\\n    - perimeter\\n    - area\\n    - smoothness (local variation in radius lengths)\\n    - compactness (perimeter^2 / area - 1.0)\\n    - concavity (severity of concave portions of the contour)\\n    - concave points (number of concave portions of the contour)\\n    - symmetry\\n    - fractal dimension (\"coastline approximation\" - 1)\\n\\n    The mean, standard error, and \"worst\" or largest (mean of the three\\n    worst/largest values) of these features were computed for each image,\\n    resulting in 30 features.  For instance, field 0 is Mean Radius, field\\n    10 is Radius SE, field 20 is Worst Radius.\\n\\n    - class:\\n            - WDBC-Malignant\\n            - WDBC-Benign\\n\\n:Summary Statistics:\\n\\n===================================== ====== ======\\n                                        Min    Max\\n===================================== ====== ======\\nradius (mean):                        6.981  28.11\\ntexture (mean):                       9.71   39.28\\nperimeter (mean):                     43.79  188.5\\narea (mean):                          143.5  2501.0\\nsmoothness (mean):                    0.053  0.163\\ncompactness (mean):                   0.019  0.345\\nconcavity (mean):                     0.0    0.427\\nconcave points (mean):                0.0    0.201\\nsymmetry (mean):                      0.106  0.304\\nfractal dimension (mean):             0.05   0.097\\nradius (standard error):              0.112  2.873\\ntexture (standard error):             0.36   4.885\\nperimeter (standard error):           0.757  21.98\\narea (standard error):                6.802  542.2\\nsmoothness (standard error):          0.002  0.031\\ncompactness (standard error):         0.002  0.135\\nconcavity (standard error):           0.0    0.396\\nconcave points (standard error):      0.0    0.053\\nsymmetry (standard error):            0.008  0.079\\nfractal dimension (standard error):   0.001  0.03\\nradius (worst):                       7.93   36.04\\ntexture (worst):                      12.02  49.54\\nperimeter (worst):                    50.41  251.2\\narea (worst):                         185.2  4254.0\\nsmoothness (worst):                   0.071  0.223\\ncompactness (worst):                  0.027  1.058\\nconcavity (worst):                    0.0    1.252\\nconcave points (worst):               0.0    0.291\\nsymmetry (worst):                     0.156  0.664\\nfractal dimension (worst):            0.055  0.208\\n===================================== ====== ======\\n\\n:Missing Attribute Values: None\\n\\n:Class Distribution: 212 - Malignant, 357 - Benign\\n\\n:Creator:  Dr. William H. Wolberg, W. Nick Street, Olvi L. Mangasarian\\n\\n:Donor: Nick Street\\n\\n:Date: November, 1995\\n\\nThis is a copy of UCI ML Breast Cancer Wisconsin (Diagnostic) datasets.\\nhttps://goo.gl/U2Uwz2\\n\\nFeatures are computed from a digitized image of a fine needle\\naspirate (FNA) of a breast mass.  They describe\\ncharacteristics of the cell nuclei present in the image.\\n\\nSeparating plane described above was obtained using\\nMultisurface Method-Tree (MSM-T) [K. P. Bennett, \"Decision Tree\\nConstruction Via Linear Programming.\" Proceedings of the 4th\\nMidwest Artificial Intelligence and Cognitive Science Society,\\npp. 97-101, 1992], a classification method which uses linear\\nprogramming to construct a decision tree.  Relevant features\\nwere selected using an exhaustive search in the space of 1-4\\nfeatures and 1-3 separating planes.\\n\\nThe actual linear program used to obtain the separating plane\\nin the 3-dimensional space is that described in:\\n[K. P. Bennett and O. L. Mangasarian: \"Robust Linear\\nProgramming Discrimination of Two Linearly Inseparable Sets\",\\nOptimization Methods and Software 1, 1992, 23-34].\\n\\nThis database is also available through the UW CS ftp server:\\n\\nftp ftp.cs.wisc.edu\\ncd math-prog/cpo-dataset/machine-learn/WDBC/\\n\\n.. dropdown:: References\\n\\n  - W.N. Street, W.H. Wolberg and O.L. Mangasarian. Nuclear feature extraction\\n    for breast tumor diagnosis. IS&T/SPIE 1993 International Symposium on\\n    Electronic Imaging: Science and Technology, volume 1905, pages 861-870,\\n    San Jose, CA, 1993.\\n  - O.L. Mangasarian, W.N. Street and W.H. Wolberg. Breast cancer diagnosis and\\n    prognosis via linear programming. Operations Research, 43(4), pages 570-577,\\n    July-August 1995.\\n  - W.H. Wolberg, W.N. Street, and O.L. Mangasarian. Machine learning techniques\\n    to diagnose breast cancer from fine-needle aspirates. Cancer Letters 77 (1994)\\n    163-171.\\n', 'feature_names': array(['mean radius', 'mean texture', 'mean perimeter', 'mean area',\n",
            "       'mean smoothness', 'mean compactness', 'mean concavity',\n",
            "       'mean concave points', 'mean symmetry', 'mean fractal dimension',\n",
            "       'radius error', 'texture error', 'perimeter error', 'area error',\n",
            "       'smoothness error', 'compactness error', 'concavity error',\n",
            "       'concave points error', 'symmetry error',\n",
            "       'fractal dimension error', 'worst radius', 'worst texture',\n",
            "       'worst perimeter', 'worst area', 'worst smoothness',\n",
            "       'worst compactness', 'worst concavity', 'worst concave points',\n",
            "       'worst symmetry', 'worst fractal dimension'], dtype='<U23'), 'filename': 'breast_cancer.csv', 'data_module': 'sklearn.datasets.data'}\n"
          ]
        }
      ]
    },
    {
      "cell_type": "code",
      "source": [
        "print(y[:5])"
      ],
      "metadata": {
        "colab": {
          "base_uri": "https://localhost:8080/"
        },
        "id": "4dNUKvM40TD-",
        "outputId": "3c222d9f-f9f0-4c4f-cea3-1873e7f3d5f1"
      },
      "execution_count": 7,
      "outputs": [
        {
          "output_type": "stream",
          "name": "stdout",
          "text": [
            "[0 0 0 0 0]\n"
          ]
        }
      ]
    },
    {
      "cell_type": "code",
      "source": [
        "#splitting data set into training and  test test\n",
        "x_train,x_test,y_train,y_test=train_test_split(x,y,test_size=0.2,random_state=42)"
      ],
      "metadata": {
        "id": "U_NCtN_m0V_l"
      },
      "execution_count": 8,
      "outputs": []
    },
    {
      "cell_type": "code",
      "source": [
        "print(x.shape)\n",
        "print(x_test.shape)\n",
        "print(x_train.shape)"
      ],
      "metadata": {
        "colab": {
          "base_uri": "https://localhost:8080/"
        },
        "id": "nwK3m_bX0jiI",
        "outputId": "cd6ddd0f-3829-498c-cc4d-dca8d949d116"
      },
      "execution_count": 9,
      "outputs": [
        {
          "output_type": "stream",
          "name": "stdout",
          "text": [
            "(569, 30)\n",
            "(114, 30)\n",
            "(455, 30)\n"
          ]
        }
      ]
    },
    {
      "cell_type": "code",
      "source": [
        "# standardize the data using standard scaler\n",
        "scaler=StandardScaler()\n",
        "x_train=scaler.fit_transform(x_train)\n",
        "x_test=scaler.transform(x_test)"
      ],
      "metadata": {
        "id": "HoZMTTeU0lYb"
      },
      "execution_count": 10,
      "outputs": []
    },
    {
      "cell_type": "code",
      "source": [
        "type(x_test)"
      ],
      "metadata": {
        "colab": {
          "base_uri": "https://localhost:8080/"
        },
        "id": "EPyHWr1a1L61",
        "outputId": "c790d9b8-3ade-4334-e150-9f200e840ada"
      },
      "execution_count": 11,
      "outputs": [
        {
          "output_type": "execute_result",
          "data": {
            "text/plain": [
              "numpy.ndarray"
            ]
          },
          "metadata": {},
          "execution_count": 11
        }
      ]
    },
    {
      "cell_type": "markdown",
      "source": [
        "numpy.ndarray cannot be used in pytorch therefore we convert this into tensors"
      ],
      "metadata": {
        "id": "dnAwDZlU1WTP"
      }
    },
    {
      "cell_type": "code",
      "source": [
        "#  into PyTorch tensors and move it to gpu\n",
        "x_train=torch.tensor(x_train,dtype=torch.float32).to(device)\n",
        "y_train=torch.tensor(y_train,dtype=torch.float32).to(device)\n",
        "x_test=torch.tensor(x_test,dtype=torch.float32).to(device)\n",
        "y_test=torch.tensor(y_test,dtype=torch.float32).to(device)\n"
      ],
      "metadata": {
        "id": "xjg2_Vzc1TTV"
      },
      "execution_count": 12,
      "outputs": []
    },
    {
      "cell_type": "markdown",
      "source": [
        "neural network architecture:\n",
        "---\n",
        "\n",
        "### 🔹 Importing and defining the class\n",
        "\n",
        "```python\n",
        "class NeuralNet(nn.Module):\n",
        "```\n",
        "\n",
        "* You’re defining a neural network by subclassing `torch.nn.Module` (the base class for all PyTorch models).\n",
        "* This allows you to build layers and define how data flows through them.\n",
        "\n",
        "---\n",
        "\n",
        "### 🔹 The constructor\n",
        "\n",
        "```python\n",
        "def __init__(self, input_size, hidden_size, output_size):\n",
        "    super(NeuralNet, self).__init__()\n",
        "```\n",
        "\n",
        "* `__init__` sets up the layers of your network.\n",
        "* `super(...)` initializes the parent class (`nn.Module`) so PyTorch can track layers/parameters.\n",
        "\n",
        "---\n",
        "\n",
        "### 🔹 Layers\n",
        "\n",
        "```python\n",
        "self.fc1 = nn.Linear(input_size, hidden_size)\n",
        "```\n",
        "\n",
        "* A **fully connected (dense) layer** that maps the input features to hidden features.\n",
        "* Example: if `input_size=10` and `hidden_size=16`, this layer has a weight matrix of shape `[16, 10]`.\n",
        "\n",
        "```python\n",
        "self.relu = nn.ReLU()\n",
        "```\n",
        "\n",
        "* **ReLU activation function**: replaces negative values with 0, keeps positives as-is.\n",
        "* Adds non-linearity so the network can learn complex relationships.\n",
        "\n",
        "```python\n",
        "self.fc2 = nn.Linear(hidden_size, output_size)\n",
        "```\n",
        "\n",
        "* Another fully connected layer that maps hidden layer → output.\n",
        "* Example: if `hidden_size=16` and `output_size=1`, it has weights `[1, 16]`.\n",
        "\n",
        "```python\n",
        "self.sigmoid = nn.Sigmoid()\n",
        "```\n",
        "\n",
        "* **Sigmoid activation function** squashes values between `0` and `1`.\n",
        "* Commonly used for **binary classification** (probability-like output).\n",
        "\n",
        "---\n",
        "\n",
        "### 🔹 Forward pass\n",
        "\n",
        "```python\n",
        "def forward(self, x):\n",
        "    out = self.fc1(x)\n",
        "    out = self.relu(out)\n",
        "    out = self.fc2(out)\n",
        "    out = self.sigmoid(out)\n",
        "    return out\n",
        "```\n",
        "\n",
        "This defines how data flows through the network:\n",
        "\n",
        "1. `x` → `fc1` → `out` (linear transform: `Wx + b`)\n",
        "2. `ReLU` applied (non-linearity)\n",
        "3. Pass through `fc2`\n",
        "4. Apply `Sigmoid` → compress final outputs between 0–1\n",
        "5. Return predictions\n",
        "\n",
        "So if you pass a batch of inputs, the model outputs a batch of probabilities.\n",
        "\n",
        "---\n",
        "\n",
        "### 🔹 Example\n",
        "\n",
        "```python\n",
        "model = NeuralNet(input_size=10, hidden_size=16, output_size=1)\n",
        "x = torch.randn(5, 10)  # batch of 5 samples with 10 features each\n",
        "y = model(x)\n",
        "print(y)\n",
        "```\n",
        "\n",
        "Output → something like:\n",
        "\n",
        "```\n",
        "tensor([[0.5234],\n",
        "        [0.4128],\n",
        "        [0.8765],\n",
        "        [0.1342],\n",
        "        [0.6891]], grad_fn=<SigmoidBackward>)\n",
        "```\n",
        "\n",
        "Each number is between **0 and 1**, representing a predicted probability.\n",
        "\n",
        "---\n",
        "\n",
        "✅ In short:\n",
        "our code builds a **2-layer feedforward neural network** with ReLU in the hidden layer and Sigmoid in the output, making it suitable for **binary classification tasks**.\n"
      ],
      "metadata": {
        "id": "ChHXF6U-_NQ9"
      }
    },
    {
      "cell_type": "code",
      "source": [
        "#define the neural architecture\n",
        "\n",
        "class NeuralNet(nn.Module):\n",
        "  #inherit the parameters and methods of nn.module class to NeuralNet class\n",
        "\n",
        "  def __init__(self,input_size,hidden_size,output_size):\n",
        "    super(NeuralNet,self).__init__()\n",
        "    self.fc1=nn.Linear(input_size,hidden_size)\n",
        "    self.relu=nn.ReLU()\n",
        "    self.fc2=nn.Linear(hidden_size,output_size)\n",
        "    self.sigmoid=nn.Sigmoid()\n",
        "\n",
        "  def forward(self,x):\n",
        "    out=self.fc1(x)\n",
        "    out=self.relu(out)\n",
        "    out=self.fc2(out)\n",
        "    out=self.sigmoid(out)\n",
        "\n",
        "    return out\n"
      ],
      "metadata": {
        "id": "xdNFlMFu1yRI"
      },
      "execution_count": 23,
      "outputs": []
    },
    {
      "cell_type": "code",
      "source": [
        "# define hyperparameters:\n",
        "input_size=x_train.shape[1] #30\n",
        "hidden_size=64 #let say ..can be 32 as well\n",
        "output_size=1 #sigmoid..binary classification\n",
        "learning_rate=0.001\n",
        "num_epochs=100"
      ],
      "metadata": {
        "id": "MN3u7roHCTmD"
      },
      "execution_count": 24,
      "outputs": []
    },
    {
      "cell_type": "code",
      "source": [
        "#initialize the neural network and move it to GPu\n",
        "model=NeuralNet(input_size,hidden_size,output_size).to(device)\n"
      ],
      "metadata": {
        "id": "jg-_7t2k-JQW"
      },
      "execution_count": 25,
      "outputs": []
    },
    {
      "cell_type": "markdown",
      "source": [
        "NeuralNet(input_size, hidden_size, output_size)\n",
        "\n",
        "Creates an instance of your neural network class.\n",
        "\n",
        "Example: if you set input_size=10, hidden_size=16, output_size=1, it builds the exact architecture you defined earlier.\n",
        "\n",
        ".to(device)\n",
        "\n",
        "Moves the entire model (all layers, weights, and biases) to the specified device:\n",
        "\n",
        "If device = torch.device(\"cpu\"), it keeps the model on CPU.\n",
        "\n",
        "If device = torch.device(\"cuda\"), it moves the model to GPU for faster training.\n",
        "\n",
        "You can also use \"mps\" on Apple Silicon (M1/M2/M3 chips)."
      ],
      "metadata": {
        "id": "wsUAbrye_yNw"
      }
    },
    {
      "cell_type": "code",
      "source": [
        "#define loss and optimizer\n",
        "\n",
        "criterion =nn.BCELoss()\n",
        "optimizer=optim.Adam(model.parameters(),lr=learning_rate)\n"
      ],
      "metadata": {
        "id": "tcPdPPan-Yl9"
      },
      "execution_count": 26,
      "outputs": []
    },
    {
      "cell_type": "markdown",
      "source": [
        "### 🔹 Loss function\n",
        "\n",
        "```python\n",
        "criterion = nn.BCELoss()\n",
        "```\n",
        "\n",
        "* `BCELoss` = **Binary Cross-Entropy Loss**.\n",
        "* It measures how well the model’s predicted probability matches the true label (0 or 1).\n",
        "* Formula:\n",
        "  [\n",
        "  \\text{Loss} = - \\frac{1}{N} \\sum \\big[ y \\cdot \\log(p) + (1-y) \\cdot \\log(1-p) \\big]\n",
        "  ]\n",
        "  where:\n",
        "\n",
        "  * ( y ) = true label (0 or 1)\n",
        "  * ( p ) = model prediction (between 0 and 1 after sigmoid)\n",
        "\n",
        "✅ Suitable for **binary classification** problems.\n",
        "\n",
        "⚠️ Note: Since our model already applies `sigmoid` in `forward`, you should use `nn.BCELoss`.\n",
        "But if you **remove sigmoid** from the model’s `forward`, it’s better to use:\n",
        "\n",
        "```python\n",
        "criterion = nn.BCEWithLogitsLoss()\n",
        "```\n",
        "\n",
        "because it combines `sigmoid + BCELoss` in one step (more numerically stable).\n",
        "\n",
        "---\n",
        "\n",
        "### 🔹 Optimizer\n",
        "\n",
        "```python\n",
        "optimizer = optim.Adam(model.parameters(), lr=learning_rate)\n",
        "```\n",
        "\n",
        "* `optim.Adam` = Adam optimizer (Adaptive Moment Estimation).\n",
        "* It updates the model’s weights using gradient descent, but adapts learning rates for each parameter.\n",
        "* `model.parameters()` gives the optimizer access to all learnable parameters (weights & biases).\n",
        "* `lr=learning_rate` sets the step size for updates (commonly 0.001).\n",
        "\n",
        "---\n",
        "\n",
        "### 🔹 Training step (conceptual flow)\n",
        "\n",
        "1. **Forward pass**\n",
        "\n",
        "   ```python\n",
        "   outputs = model(inputs)\n",
        "   loss = criterion(outputs, labels)\n",
        "   ```\n",
        "\n",
        "   * Compute predictions and loss.\n",
        "\n",
        "2. **Backward pass**\n",
        "\n",
        "   ```python\n",
        "   optimizer.zero_grad()  # reset gradients\n",
        "   loss.backward()        # compute gradients\n",
        "   optimizer.step()       # update weights\n",
        "   ```\n",
        "\n",
        "3. **Repeat** for all batches/epochs.\n",
        "\n",
        "---\n",
        "\n",
        "✅ So, our setup means:\n",
        "\n",
        "* Use **Binary Cross Entropy** to measure prediction error.\n",
        "* Use **Adam optimizer** to minimize this loss by updating weights.\n"
      ],
      "metadata": {
        "id": "I1rATLn1_-D_"
      }
    },
    {
      "cell_type": "code",
      "source": [
        "#training the neural network:\n",
        "\n",
        "for epoch in range(num_epochs):\n",
        "  model.train()\n",
        "  optimizer.zero_grad()\n",
        "  outputs=model(x_train)\n",
        "  loss=criterion(outputs,y_train.view(-1,1))\n",
        "  loss.backward()\n",
        "  optimizer.step()\n",
        "\n",
        "  #calculate accuracy\n",
        "  with torch.no_grad():\n",
        "    predicted=outputs.round()\n",
        "    correct = (predicted == y_train.view(-1,1)).float().sum()\n",
        "    accuracy = correct / y_train.size(0)\n",
        "\n",
        "  if (epoch+1) % 10 == 0:\n",
        "    print(f\"Epoch [{epoch+1}/{num_epochs}], Loss : {loss.item():.4f}, Accuracy: {accuracy.item() * 100:.2f}%\")\n"
      ],
      "metadata": {
        "colab": {
          "base_uri": "https://localhost:8080/"
        },
        "id": "KBQe0QTp-7N5",
        "outputId": "a679dd15-6f19-43c7-9b9a-6985455d9c84"
      },
      "execution_count": 32,
      "outputs": [
        {
          "output_type": "stream",
          "name": "stdout",
          "text": [
            "Epoch [10/100], Loss : 0.0607, Accuracy: 98.68%\n",
            "Epoch [20/100], Loss : 0.0585, Accuracy: 98.68%\n",
            "Epoch [30/100], Loss : 0.0565, Accuracy: 98.68%\n",
            "Epoch [40/100], Loss : 0.0547, Accuracy: 98.90%\n",
            "Epoch [50/100], Loss : 0.0529, Accuracy: 98.90%\n",
            "Epoch [60/100], Loss : 0.0513, Accuracy: 98.90%\n",
            "Epoch [70/100], Loss : 0.0497, Accuracy: 99.12%\n",
            "Epoch [80/100], Loss : 0.0483, Accuracy: 99.12%\n",
            "Epoch [90/100], Loss : 0.0469, Accuracy: 99.12%\n",
            "Epoch [100/100], Loss : 0.0455, Accuracy: 99.34%\n"
          ]
        }
      ]
    },
    {
      "cell_type": "markdown",
      "source": [
        "### 🔹 Training Loop Breakdown\n",
        "\n",
        "```python\n",
        "for epoch in range(num_epochs):\n",
        "    model.train()\n",
        "```\n",
        "\n",
        "* Runs for `num_epochs` iterations.\n",
        "* `model.train()` tells PyTorch we’re in **training mode** (important if your model had dropout/batchnorm).\n",
        "\n",
        "---\n",
        "\n",
        "```python\n",
        "    optimizer.zero_grad()\n",
        "```\n",
        "\n",
        "* Clears out old gradients (otherwise PyTorch accumulates them every `.backward()`).\n",
        "\n",
        "---\n",
        "\n",
        "```python\n",
        "    outputs = model(X_train)\n",
        "```\n",
        "\n",
        "* Feeds training data (`X_train`) into your model → produces predictions (`outputs`).\n",
        "\n",
        "---\n",
        "\n",
        "```python\n",
        "    loss = criterion(outputs, y_train.view(-1,1))\n",
        "```\n",
        "\n",
        "* Computes the **loss** between predicted values and actual labels.\n",
        "* `y_train.view(-1, 1)` reshapes `y_train` into a column vector so its shape matches `outputs`.\n",
        "\n",
        "---\n",
        "\n",
        "```python\n",
        "    loss.backward()\n",
        "    optimizer.step()\n",
        "```\n",
        "\n",
        "* **`loss.backward()`** → computes gradients via backpropagation.\n",
        "* **`optimizer.step()`** → updates model weights using gradients (Adam optimizer in your case).\n",
        "\n",
        "---\n",
        "\n",
        "### 🔹 Accuracy Calculation\n",
        "\n",
        "```python\n",
        "    with torch.no_grad():\n",
        "        predicted = outputs.round()\n",
        "        correct = (predicted == y_train.view(-1,1)).float().sum()\n",
        "        accuracy = correct / y_train.size(0)\n",
        "```\n",
        "\n",
        "* `torch.no_grad()` → disables gradient tracking (saves memory since we’re just evaluating).\n",
        "* `outputs.round()` → since outputs are probabilities in `[0,1]`, rounding gives predicted labels (0 or 1).\n",
        "* Compares predictions with true labels → counts how many are correct.\n",
        "* `accuracy` = fraction of correctly predicted samples.\n",
        "\n",
        "---\n",
        "\n",
        "### 🔹 Logging\n",
        "\n",
        "```python\n",
        "    if (epoch+1) % 10 == 0:\n",
        "        print(f\"Epoch [{epoch+1}/{num_epochs}], Loss : {loss.item():.4f}, Accuracy: {accuracy.item() * 100:.2f}%\")\n",
        "```\n",
        "\n",
        "* Every 10 epochs, it prints current loss & accuracy.\n",
        "\n",
        "Sample output might look like:\n",
        "\n",
        "```\n",
        "Epoch [10/100], Loss: 0.4215, Accuracy: 82.00%\n",
        "Epoch [20/100], Loss: 0.3156, Accuracy: 88.67%\n",
        "...\n",
        "```\n",
        "\n",
        "---\n",
        "\n",
        "### ✅ Summary\n",
        "\n",
        "our loop does exactly what training should:\n",
        "\n",
        "1. Forward pass\n",
        "2. Compute loss\n",
        "3. Backward pass (gradients)\n",
        "4. Update weights\n",
        "5. Track accuracy\n",
        "\n",
        "---\n",
        "\n",
        "⚡ Improvements we might consider:\n",
        "\n",
        "* Shuffle & split data into **mini-batches** using `DataLoader` instead of feeding all `X_train` at once.\n",
        "* Evaluate on a **validation/test set** inside the loop (not just training data).\n",
        "* Use `BCEWithLogitsLoss` (and remove sigmoid) for numerical stability.\n"
      ],
      "metadata": {
        "id": "Jyy5uTNdAkXh"
      }
    },
    {
      "cell_type": "code",
      "source": [
        "#model evaluation\n",
        "\n",
        "#evaluate on training set\n",
        "model.eval()\n",
        "with torch.no_grad():\n",
        "  outputs= model(x_train)\n",
        "  predicted=outputs.round()\n",
        "  correct = (predicted == y_train.view(-1,1)).float().sum()\n",
        "  accuracy = correct / y_train.size(0)\n",
        "  print(f\"Accuracy on training data:{accuracy.item()*100:.2f}%\")"
      ],
      "metadata": {
        "colab": {
          "base_uri": "https://localhost:8080/"
        },
        "id": "fGxvufacAa0G",
        "outputId": "8e7fdabf-7ed7-4d90-91dd-795acf096e37"
      },
      "execution_count": 34,
      "outputs": [
        {
          "output_type": "stream",
          "name": "stdout",
          "text": [
            "Accuracy on training data:99.34%\n"
          ]
        }
      ]
    },
    {
      "cell_type": "code",
      "source": [
        "#evaluate on test data:\n",
        "model.eval()\n",
        "with torch.no_grad():\n",
        "  outputs= model(x_test)\n",
        "  predicted=outputs.round()\n",
        "  correct = (predicted == y_test.view(-1,1)).float().sum()\n",
        "  accuracy = correct / y_test.size(0)\n",
        "  print(f\"Accuracy on training data:{accuracy.item()*100:.2f}%\")"
      ],
      "metadata": {
        "colab": {
          "base_uri": "https://localhost:8080/"
        },
        "id": "kTHwElUPDHPS",
        "outputId": "4cc55a55-3fdd-4cd9-d51b-f08e5a8e4f14"
      },
      "execution_count": 35,
      "outputs": [
        {
          "output_type": "stream",
          "name": "stdout",
          "text": [
            "Accuracy on training data:99.12%\n"
          ]
        }
      ]
    },
    {
      "cell_type": "code",
      "source": [],
      "metadata": {
        "id": "64SlE-eIDexF"
      },
      "execution_count": null,
      "outputs": []
    }
  ]
}